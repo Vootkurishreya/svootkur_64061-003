{
  "nbformat": 4,
  "nbformat_minor": 0,
  "metadata": {
    "colab": {
      "provenance": [],
      "gpuType": "T4"
    },
    "kernelspec": {
      "name": "python3",
      "display_name": "Python 3"
    },
    "language_info": {
      "name": "python"
    },
    "accelerator": "GPU"
  },
  "cells": [
    {
      "cell_type": "markdown",
      "source": [
        "#Getting started with neural networks: Classification and regression\n",
        "### Classifying movie reviews: A binary classification example\n",
        "####The IMDB dataset\n",
        "##### Loading the IMDB dataset"
      ],
      "metadata": {
        "id": "hPJIA2gjESh5"
      }
    },
    {
      "cell_type": "code",
      "execution_count": 2,
      "metadata": {
        "colab": {
          "base_uri": "https://localhost:8080/",
          "height": 0
        },
        "id": "7g9RpFxYCr9i",
        "outputId": "f78100f1-ddb6-4d6d-c4e9-68c5af19c6f5"
      },
      "outputs": [
        {
          "output_type": "stream",
          "name": "stdout",
          "text": [
            "Downloading data from https://storage.googleapis.com/tensorflow/tf-keras-datasets/imdb.npz\n",
            "17464789/17464789 [==============================] - 0s 0us/step\n"
          ]
        }
      ],
      "source": [
        "from tensorflow.keras.datasets import imdb\n",
        "(train_data, train_labels), (test_data, test_labels) = imdb.load_data(\n",
        "    num_words=10000)"
      ]
    },
    {
      "cell_type": "code",
      "source": [
        "train_data[0]"
      ],
      "metadata": {
        "colab": {
          "base_uri": "https://localhost:8080/",
          "height": 0
        },
        "id": "2uHnoAZuDAis",
        "outputId": "8fb8a810-82a8-4cff-83aa-a6f4550b1a6c"
      },
      "execution_count": 3,
      "outputs": [
        {
          "output_type": "execute_result",
          "data": {
            "text/plain": [
              "[1,\n",
              " 14,\n",
              " 22,\n",
              " 16,\n",
              " 43,\n",
              " 530,\n",
              " 973,\n",
              " 1622,\n",
              " 1385,\n",
              " 65,\n",
              " 458,\n",
              " 4468,\n",
              " 66,\n",
              " 3941,\n",
              " 4,\n",
              " 173,\n",
              " 36,\n",
              " 256,\n",
              " 5,\n",
              " 25,\n",
              " 100,\n",
              " 43,\n",
              " 838,\n",
              " 112,\n",
              " 50,\n",
              " 670,\n",
              " 2,\n",
              " 9,\n",
              " 35,\n",
              " 480,\n",
              " 284,\n",
              " 5,\n",
              " 150,\n",
              " 4,\n",
              " 172,\n",
              " 112,\n",
              " 167,\n",
              " 2,\n",
              " 336,\n",
              " 385,\n",
              " 39,\n",
              " 4,\n",
              " 172,\n",
              " 4536,\n",
              " 1111,\n",
              " 17,\n",
              " 546,\n",
              " 38,\n",
              " 13,\n",
              " 447,\n",
              " 4,\n",
              " 192,\n",
              " 50,\n",
              " 16,\n",
              " 6,\n",
              " 147,\n",
              " 2025,\n",
              " 19,\n",
              " 14,\n",
              " 22,\n",
              " 4,\n",
              " 1920,\n",
              " 4613,\n",
              " 469,\n",
              " 4,\n",
              " 22,\n",
              " 71,\n",
              " 87,\n",
              " 12,\n",
              " 16,\n",
              " 43,\n",
              " 530,\n",
              " 38,\n",
              " 76,\n",
              " 15,\n",
              " 13,\n",
              " 1247,\n",
              " 4,\n",
              " 22,\n",
              " 17,\n",
              " 515,\n",
              " 17,\n",
              " 12,\n",
              " 16,\n",
              " 626,\n",
              " 18,\n",
              " 2,\n",
              " 5,\n",
              " 62,\n",
              " 386,\n",
              " 12,\n",
              " 8,\n",
              " 316,\n",
              " 8,\n",
              " 106,\n",
              " 5,\n",
              " 4,\n",
              " 2223,\n",
              " 5244,\n",
              " 16,\n",
              " 480,\n",
              " 66,\n",
              " 3785,\n",
              " 33,\n",
              " 4,\n",
              " 130,\n",
              " 12,\n",
              " 16,\n",
              " 38,\n",
              " 619,\n",
              " 5,\n",
              " 25,\n",
              " 124,\n",
              " 51,\n",
              " 36,\n",
              " 135,\n",
              " 48,\n",
              " 25,\n",
              " 1415,\n",
              " 33,\n",
              " 6,\n",
              " 22,\n",
              " 12,\n",
              " 215,\n",
              " 28,\n",
              " 77,\n",
              " 52,\n",
              " 5,\n",
              " 14,\n",
              " 407,\n",
              " 16,\n",
              " 82,\n",
              " 2,\n",
              " 8,\n",
              " 4,\n",
              " 107,\n",
              " 117,\n",
              " 5952,\n",
              " 15,\n",
              " 256,\n",
              " 4,\n",
              " 2,\n",
              " 7,\n",
              " 3766,\n",
              " 5,\n",
              " 723,\n",
              " 36,\n",
              " 71,\n",
              " 43,\n",
              " 530,\n",
              " 476,\n",
              " 26,\n",
              " 400,\n",
              " 317,\n",
              " 46,\n",
              " 7,\n",
              " 4,\n",
              " 2,\n",
              " 1029,\n",
              " 13,\n",
              " 104,\n",
              " 88,\n",
              " 4,\n",
              " 381,\n",
              " 15,\n",
              " 297,\n",
              " 98,\n",
              " 32,\n",
              " 2071,\n",
              " 56,\n",
              " 26,\n",
              " 141,\n",
              " 6,\n",
              " 194,\n",
              " 7486,\n",
              " 18,\n",
              " 4,\n",
              " 226,\n",
              " 22,\n",
              " 21,\n",
              " 134,\n",
              " 476,\n",
              " 26,\n",
              " 480,\n",
              " 5,\n",
              " 144,\n",
              " 30,\n",
              " 5535,\n",
              " 18,\n",
              " 51,\n",
              " 36,\n",
              " 28,\n",
              " 224,\n",
              " 92,\n",
              " 25,\n",
              " 104,\n",
              " 4,\n",
              " 226,\n",
              " 65,\n",
              " 16,\n",
              " 38,\n",
              " 1334,\n",
              " 88,\n",
              " 12,\n",
              " 16,\n",
              " 283,\n",
              " 5,\n",
              " 16,\n",
              " 4472,\n",
              " 113,\n",
              " 103,\n",
              " 32,\n",
              " 15,\n",
              " 16,\n",
              " 5345,\n",
              " 19,\n",
              " 178,\n",
              " 32]"
            ]
          },
          "metadata": {},
          "execution_count": 3
        }
      ]
    },
    {
      "cell_type": "code",
      "source": [
        "train_labels[0]"
      ],
      "metadata": {
        "colab": {
          "base_uri": "https://localhost:8080/",
          "height": 0
        },
        "id": "xktF56lsDC1S",
        "outputId": "2785d68b-1157-45c7-a40d-33baa4b387f6"
      },
      "execution_count": 4,
      "outputs": [
        {
          "output_type": "execute_result",
          "data": {
            "text/plain": [
              "1"
            ]
          },
          "metadata": {},
          "execution_count": 4
        }
      ]
    },
    {
      "cell_type": "code",
      "source": [
        "max([max(sequence) for sequence in train_data])"
      ],
      "metadata": {
        "colab": {
          "base_uri": "https://localhost:8080/",
          "height": 0
        },
        "id": "dgpRVCTxDUCl",
        "outputId": "d1482718-acb8-46d6-a890-b37a4bd4d0bc"
      },
      "execution_count": 5,
      "outputs": [
        {
          "output_type": "execute_result",
          "data": {
            "text/plain": [
              "9999"
            ]
          },
          "metadata": {},
          "execution_count": 5
        }
      ]
    },
    {
      "cell_type": "markdown",
      "source": [
        "**Decoding reviews back to text**"
      ],
      "metadata": {
        "id": "pMyb5cfiEoQp"
      }
    },
    {
      "cell_type": "code",
      "source": [
        "word_index = imdb.get_word_index()\n",
        "reverse_word_index = dict(\n",
        "    [(value, key) for (key, value) in word_index.items()])\n",
        "decoded_review = \" \".join(\n",
        "    [reverse_word_index.get(i - 3, \"?\") for i in train_data[0]])"
      ],
      "metadata": {
        "colab": {
          "base_uri": "https://localhost:8080/",
          "height": 0
        },
        "id": "rEB19jmLDYq7",
        "outputId": "265b0109-5a9f-471b-8c1b-1a828a94305e"
      },
      "execution_count": 6,
      "outputs": [
        {
          "output_type": "stream",
          "name": "stdout",
          "text": [
            "Downloading data from https://storage.googleapis.com/tensorflow/tf-keras-datasets/imdb_word_index.json\n",
            "1641221/1641221 [==============================] - 0s 0us/step\n"
          ]
        }
      ]
    },
    {
      "cell_type": "markdown",
      "source": [
        "# **Preparing the data**\n",
        "**Encoding the integer sequences via multi-hot encoding**"
      ],
      "metadata": {
        "id": "U8R4D66PE3aC"
      }
    },
    {
      "cell_type": "code",
      "source": [
        "import numpy as np\n",
        "def vectorize_sequences(sequences, dimension=10000):\n",
        "    results = np.zeros((len(sequences), dimension))\n",
        "    for i, sequence in enumerate(sequences):\n",
        "        for j in sequence:\n",
        "            results[i, j] = 1.\n",
        "    return results\n",
        "x_train = vectorize_sequences(train_data)\n",
        "x_test = vectorize_sequences(test_data)"
      ],
      "metadata": {
        "id": "zYUSLgzoDbzE"
      },
      "execution_count": 7,
      "outputs": []
    },
    {
      "cell_type": "code",
      "source": [
        "x_train[0]"
      ],
      "metadata": {
        "colab": {
          "base_uri": "https://localhost:8080/",
          "height": 0
        },
        "id": "Y4spfvwcDpim",
        "outputId": "9bd0e913-f003-4f5f-8a71-9d768d7152e2"
      },
      "execution_count": 8,
      "outputs": [
        {
          "output_type": "execute_result",
          "data": {
            "text/plain": [
              "array([0., 1., 1., ..., 0., 0., 0.])"
            ]
          },
          "metadata": {},
          "execution_count": 8
        }
      ]
    },
    {
      "cell_type": "code",
      "source": [
        "y_train = np.asarray(train_labels).astype(\"float32\")\n",
        "y_test = np.asarray(test_labels).astype(\"float32\")"
      ],
      "metadata": {
        "id": "tlY_r36WDtxC"
      },
      "execution_count": 9,
      "outputs": []
    },
    {
      "cell_type": "markdown",
      "source": [
        "# **Building your model**\n",
        "**Model definition and compilation**"
      ],
      "metadata": {
        "id": "-zGbfgvBFCcm"
      }
    },
    {
      "cell_type": "code",
      "source": [
        "from tensorflow import keras\n",
        "from tensorflow.keras import layers\n",
        "\n",
        "model = keras.Sequential([\n",
        "    layers.Dense(32, activation=\"relu\"),\n",
        "    layers.Dense(32, activation=\"relu\"),\n",
        "    layers.Dense(1, activation=\"sigmoid\")\n",
        "])"
      ],
      "metadata": {
        "id": "dO6iXt6QDuLU"
      },
      "execution_count": 10,
      "outputs": []
    },
    {
      "cell_type": "code",
      "source": [
        "model.compile(optimizer=\"rmsprop\",\n",
        "              loss=\"binary_crossentropy\",\n",
        "              metrics=[\"accuracy\"])"
      ],
      "metadata": {
        "id": "aBRUxnGHD8jy"
      },
      "execution_count": 11,
      "outputs": []
    },
    {
      "cell_type": "markdown",
      "source": [
        "### **Validating the data set**"
      ],
      "metadata": {
        "id": "YpdoAoztGN1X"
      }
    },
    {
      "cell_type": "code",
      "source": [
        "x_val = x_train[:10000]\n",
        "partial_x_train = x_train[10000:]\n",
        "y_val = y_train[:10000]\n",
        "partial_y_train = y_train[10000:]"
      ],
      "metadata": {
        "id": "fZzM_wQED_V3"
      },
      "execution_count": 12,
      "outputs": []
    },
    {
      "cell_type": "markdown",
      "source": [
        "### **Training model**"
      ],
      "metadata": {
        "id": "4GM1oRTwGZkL"
      }
    },
    {
      "cell_type": "code",
      "source": [
        "history = model.fit(partial_x_train,\n",
        "                    partial_y_train,\n",
        "                    epochs=25,\n",
        "                    batch_size=512,\n",
        "                    validation_data=(x_val, y_val))"
      ],
      "metadata": {
        "colab": {
          "base_uri": "https://localhost:8080/",
          "height": 0
        },
        "id": "ZASt3z3-EB-_",
        "outputId": "74825681-21d7-431c-f68f-67ff7f67d576"
      },
      "execution_count": 13,
      "outputs": [
        {
          "output_type": "stream",
          "name": "stdout",
          "text": [
            "Epoch 1/25\n",
            "30/30 [==============================] - 7s 81ms/step - loss: 0.5177 - accuracy: 0.7625 - val_loss: 0.3667 - val_accuracy: 0.8706\n",
            "Epoch 2/25\n",
            "30/30 [==============================] - 1s 35ms/step - loss: 0.3009 - accuracy: 0.8939 - val_loss: 0.3735 - val_accuracy: 0.8386\n",
            "Epoch 3/25\n",
            "30/30 [==============================] - 1s 23ms/step - loss: 0.2266 - accuracy: 0.9187 - val_loss: 0.2903 - val_accuracy: 0.8832\n",
            "Epoch 4/25\n",
            "30/30 [==============================] - 1s 24ms/step - loss: 0.1901 - accuracy: 0.9313 - val_loss: 0.2874 - val_accuracy: 0.8851\n",
            "Epoch 5/25\n",
            "30/30 [==============================] - 1s 22ms/step - loss: 0.1563 - accuracy: 0.9461 - val_loss: 0.3043 - val_accuracy: 0.8804\n",
            "Epoch 6/25\n",
            "30/30 [==============================] - 1s 23ms/step - loss: 0.1307 - accuracy: 0.9558 - val_loss: 0.3344 - val_accuracy: 0.8729\n",
            "Epoch 7/25\n",
            "30/30 [==============================] - 1s 25ms/step - loss: 0.1126 - accuracy: 0.9610 - val_loss: 0.3236 - val_accuracy: 0.8784\n",
            "Epoch 8/25\n",
            "30/30 [==============================] - 1s 25ms/step - loss: 0.0965 - accuracy: 0.9687 - val_loss: 0.3335 - val_accuracy: 0.8796\n",
            "Epoch 9/25\n",
            "30/30 [==============================] - 1s 22ms/step - loss: 0.0861 - accuracy: 0.9708 - val_loss: 0.3706 - val_accuracy: 0.8737\n",
            "Epoch 10/25\n",
            "30/30 [==============================] - 1s 22ms/step - loss: 0.0718 - accuracy: 0.9772 - val_loss: 0.3782 - val_accuracy: 0.8778\n",
            "Epoch 11/25\n",
            "30/30 [==============================] - 1s 22ms/step - loss: 0.0608 - accuracy: 0.9810 - val_loss: 0.4041 - val_accuracy: 0.8755\n",
            "Epoch 12/25\n",
            "30/30 [==============================] - 1s 25ms/step - loss: 0.0581 - accuracy: 0.9829 - val_loss: 0.4221 - val_accuracy: 0.8755\n",
            "Epoch 13/25\n",
            "30/30 [==============================] - 1s 24ms/step - loss: 0.0363 - accuracy: 0.9915 - val_loss: 0.6675 - val_accuracy: 0.8395\n",
            "Epoch 14/25\n",
            "30/30 [==============================] - 1s 25ms/step - loss: 0.0318 - accuracy: 0.9921 - val_loss: 0.4793 - val_accuracy: 0.8729\n",
            "Epoch 15/25\n",
            "30/30 [==============================] - 1s 21ms/step - loss: 0.0272 - accuracy: 0.9941 - val_loss: 0.6724 - val_accuracy: 0.8448\n",
            "Epoch 16/25\n",
            "30/30 [==============================] - 1s 22ms/step - loss: 0.0270 - accuracy: 0.9932 - val_loss: 0.5387 - val_accuracy: 0.8718\n",
            "Epoch 17/25\n",
            "30/30 [==============================] - 1s 38ms/step - loss: 0.0305 - accuracy: 0.9915 - val_loss: 0.5618 - val_accuracy: 0.8703\n",
            "Epoch 18/25\n",
            "30/30 [==============================] - 1s 29ms/step - loss: 0.0108 - accuracy: 0.9994 - val_loss: 0.5988 - val_accuracy: 0.8698\n",
            "Epoch 19/25\n",
            "30/30 [==============================] - 1s 26ms/step - loss: 0.0247 - accuracy: 0.9931 - val_loss: 0.6146 - val_accuracy: 0.8696\n",
            "Epoch 20/25\n",
            "30/30 [==============================] - 1s 25ms/step - loss: 0.0206 - accuracy: 0.9943 - val_loss: 0.6350 - val_accuracy: 0.8692\n",
            "Epoch 21/25\n",
            "30/30 [==============================] - 1s 21ms/step - loss: 0.0059 - accuracy: 0.9997 - val_loss: 0.8964 - val_accuracy: 0.8408\n",
            "Epoch 22/25\n",
            "30/30 [==============================] - 1s 22ms/step - loss: 0.0231 - accuracy: 0.9929 - val_loss: 0.6661 - val_accuracy: 0.8693\n",
            "Epoch 23/25\n",
            "30/30 [==============================] - 1s 22ms/step - loss: 0.0165 - accuracy: 0.9951 - val_loss: 0.6982 - val_accuracy: 0.8683\n",
            "Epoch 24/25\n",
            "30/30 [==============================] - 1s 21ms/step - loss: 0.0039 - accuracy: 0.9998 - val_loss: 0.7090 - val_accuracy: 0.8683\n",
            "Epoch 25/25\n",
            "30/30 [==============================] - 1s 20ms/step - loss: 0.0173 - accuracy: 0.9945 - val_loss: 0.7303 - val_accuracy: 0.8682\n"
          ]
        }
      ]
    },
    {
      "cell_type": "code",
      "source": [
        "history_dict = history.history\n",
        "history_dict.keys()"
      ],
      "metadata": {
        "colab": {
          "base_uri": "https://localhost:8080/",
          "height": 0
        },
        "id": "4Tnlv9zkG-UQ",
        "outputId": "281c5748-b5d1-4e7f-bf41-d50abc1ad3cd"
      },
      "execution_count": 14,
      "outputs": [
        {
          "output_type": "execute_result",
          "data": {
            "text/plain": [
              "dict_keys(['loss', 'accuracy', 'val_loss', 'val_accuracy'])"
            ]
          },
          "metadata": {},
          "execution_count": 14
        }
      ]
    },
    {
      "cell_type": "markdown",
      "source": [
        "### **Training and validation loss**"
      ],
      "metadata": {
        "id": "CkENRmSMJdsH"
      }
    },
    {
      "cell_type": "code",
      "source": [
        "import matplotlib.pyplot as plt\n",
        "history_dict = history.history\n",
        "loss_values = history_dict[\"loss\"]\n",
        "val_loss_values = history_dict[\"val_loss\"]\n",
        "epochs = range(1, len(loss_values) + 1)\n",
        "plt.plot(epochs, loss_values, \"bo\", label=\"Training loss\")\n",
        "plt.plot(epochs, val_loss_values, \"b\", label=\"Validation loss\")\n",
        "plt.title(\"Training and validation loss\")\n",
        "plt.xlabel(\"Epochs\")\n",
        "plt.ylabel(\"Loss\")\n",
        "plt.legend()\n",
        "plt.show()"
      ],
      "metadata": {
        "colab": {
          "base_uri": "https://localhost:8080/",
          "height": 472
        },
        "id": "oxuBvWR0G_zY",
        "outputId": "c53d4f7f-31ba-48a1-ffe0-4a3f2e0626a3"
      },
      "execution_count": 15,
      "outputs": [
        {
          "output_type": "display_data",
          "data": {
            "text/plain": [
              "<Figure size 640x480 with 1 Axes>"
            ],
            "image/png": "[encoded data removed]"
          },
          "metadata": {}
        }
      ]
    },
    {
      "cell_type": "markdown",
      "source": [
        "### **Training and validation accuracy**"
      ],
      "metadata": {
        "id": "YNs2_oJ-JqG-"
      }
    },
    {
      "cell_type": "code",
      "source": [
        "plt.clf()\n",
        "acc = history_dict[\"accuracy\"]\n",
        "val_acc = history_dict[\"val_accuracy\"]\n",
        "plt.plot(epochs, acc, \"bo\", label=\"Training acc\")\n",
        "plt.plot(epochs, val_acc, \"b\", label=\"Validation acc\")\n",
        "plt.title(\"Training and validation accuracy\")\n",
        "plt.xlabel(\"Epochs\")\n",
        "plt.ylabel(\"Accuracy\")\n",
        "plt.legend()\n",
        "plt.show()"
      ],
      "metadata": {
        "colab": {
          "base_uri": "https://localhost:8080/",
          "height": 472
        },
        "id": "BKDJPtFMI765",
        "outputId": "a90f6fb9-7fb5-4acf-920f-7c2068ee0a93"
      },
      "execution_count": 16,
      "outputs": [
        {
          "output_type": "display_data",
          "data": {
            "text/plain": [
              "<Figure size 640x480 with 1 Axes>"
            ],
            "image/png": "[encoded data removed]"
          },
          "metadata": {}
        }
      ]
    },
    {
      "cell_type": "markdown",
      "source": [
        "### **Retraining a model from scratch**"
      ],
      "metadata": {
        "id": "XdNpUaWXKELO"
      }
    },
    {
      "cell_type": "code",
      "source": [
        "model = keras.Sequential([\n",
        "    layers.Dense(32, activation=\"relu\"),\n",
        "    layers.Dense(32, activation=\"relu\"),\n",
        "    layers.Dense(1, activation=\"sigmoid\")\n",
        "])\n",
        "model.compile(optimizer=\"rmsprop\",\n",
        "              loss=\"binary_crossentropy\",\n",
        "              metrics=[\"accuracy\"])\n",
        "model.fit(x_train, y_train, epochs=10, batch_size=512)\n",
        "results = model.evaluate(x_test, y_test)"
      ],
      "metadata": {
        "colab": {
          "base_uri": "https://localhost:8080/",
          "height": 0
        },
        "id": "uQT4-NSRJ_4X",
        "outputId": "ee571ba9-fc62-458b-dad5-13db7aa0b32e"
      },
      "execution_count": 17,
      "outputs": [
        {
          "output_type": "stream",
          "name": "stdout",
          "text": [
            "Epoch 1/10\n",
            "49/49 [==============================] - 2s 19ms/step - loss: 0.4425 - accuracy: 0.8115\n",
            "Epoch 2/10\n",
            "49/49 [==============================] - 1s 16ms/step - loss: 0.2547 - accuracy: 0.9066\n",
            "Epoch 3/10\n",
            "49/49 [==============================] - 1s 18ms/step - loss: 0.2070 - accuracy: 0.9219\n",
            "Epoch 4/10\n",
            "49/49 [==============================] - 1s 14ms/step - loss: 0.1760 - accuracy: 0.9350\n",
            "Epoch 5/10\n",
            "49/49 [==============================] - 1s 14ms/step - loss: 0.1546 - accuracy: 0.9437\n",
            "Epoch 6/10\n",
            "49/49 [==============================] - 1s 14ms/step - loss: 0.1344 - accuracy: 0.9518\n",
            "Epoch 7/10\n",
            "49/49 [==============================] - 1s 14ms/step - loss: 0.1189 - accuracy: 0.9572\n",
            "Epoch 8/10\n",
            "49/49 [==============================] - 1s 13ms/step - loss: 0.1016 - accuracy: 0.9640\n",
            "Epoch 9/10\n",
            "49/49 [==============================] - 1s 14ms/step - loss: 0.0885 - accuracy: 0.9696\n",
            "Epoch 10/10\n",
            "49/49 [==============================] - 1s 12ms/step - loss: 0.0753 - accuracy: 0.9750\n",
            "782/782 [==============================] - 3s 3ms/step - loss: 0.4232 - accuracy: 0.8688\n"
          ]
        }
      ]
    },
    {
      "cell_type": "code",
      "source": [
        "results"
      ],
      "metadata": {
        "colab": {
          "base_uri": "https://localhost:8080/",
          "height": 0
        },
        "id": "-W20HDiSLQJ5",
        "outputId": "7c1c12b0-8c47-48c3-b6b2-cb5fdfdd780d"
      },
      "execution_count": 18,
      "outputs": [
        {
          "output_type": "execute_result",
          "data": {
            "text/plain": [
              "[0.42323464155197144, 0.8688399791717529]"
            ]
          },
          "metadata": {},
          "execution_count": 18
        }
      ]
    }
  ]
}